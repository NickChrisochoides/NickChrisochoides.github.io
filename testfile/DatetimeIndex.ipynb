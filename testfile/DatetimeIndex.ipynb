{
 "cells": [
  {
   "cell_type": "markdown",
   "metadata": {},
   "source": [
    "# Import pandas and load the data"
   ]
  },
  {
   "cell_type": "code",
   "execution_count": 1,
   "metadata": {},
   "outputs": [],
   "source": [
    "import pandas as pd"
   ]
  },
  {
   "cell_type": "code",
   "execution_count": 2,
   "metadata": {
    "scrolled": true
   },
   "outputs": [
    {
     "data": {
      "text/html": [
       "<div>\n",
       "<style scoped>\n",
       "    .dataframe tbody tr th:only-of-type {\n",
       "        vertical-align: middle;\n",
       "    }\n",
       "\n",
       "    .dataframe tbody tr th {\n",
       "        vertical-align: top;\n",
       "    }\n",
       "\n",
       "    .dataframe thead th {\n",
       "        text-align: right;\n",
       "    }\n",
       "</style>\n",
       "<table border=\"1\" class=\"dataframe\">\n",
       "  <thead>\n",
       "    <tr style=\"text-align: right;\">\n",
       "      <th></th>\n",
       "      <th>Month</th>\n",
       "      <th>Month-Year</th>\n",
       "      <th>Total Construction</th>\n",
       "      <th>Private Construction</th>\n",
       "      <th>Public Construction</th>\n",
       "    </tr>\n",
       "  </thead>\n",
       "  <tbody>\n",
       "    <tr>\n",
       "      <th>0</th>\n",
       "      <td>1</td>\n",
       "      <td>Jan-02</td>\n",
       "      <td>59516</td>\n",
       "      <td>45273</td>\n",
       "      <td>14243</td>\n",
       "    </tr>\n",
       "    <tr>\n",
       "      <th>1</th>\n",
       "      <td>2</td>\n",
       "      <td>Feb-02</td>\n",
       "      <td>58588</td>\n",
       "      <td>44475</td>\n",
       "      <td>14113</td>\n",
       "    </tr>\n",
       "    <tr>\n",
       "      <th>2</th>\n",
       "      <td>3</td>\n",
       "      <td>Mar-02</td>\n",
       "      <td>63782</td>\n",
       "      <td>49396</td>\n",
       "      <td>14386</td>\n",
       "    </tr>\n",
       "    <tr>\n",
       "      <th>3</th>\n",
       "      <td>4</td>\n",
       "      <td>Apr-02</td>\n",
       "      <td>69504</td>\n",
       "      <td>53283</td>\n",
       "      <td>16221</td>\n",
       "    </tr>\n",
       "    <tr>\n",
       "      <th>4</th>\n",
       "      <td>5</td>\n",
       "      <td>May-02</td>\n",
       "      <td>73384</td>\n",
       "      <td>55009</td>\n",
       "      <td>18375</td>\n",
       "    </tr>\n",
       "  </tbody>\n",
       "</table>\n",
       "</div>"
      ],
      "text/plain": [
       "   Month Month-Year  Total Construction  Private Construction  \\\n",
       "0      1     Jan-02               59516                 45273   \n",
       "1      2     Feb-02               58588                 44475   \n",
       "2      3     Mar-02               63782                 49396   \n",
       "3      4     Apr-02               69504                 53283   \n",
       "4      5     May-02               73384                 55009   \n",
       "\n",
       "   Public Construction  \n",
       "0                14243  \n",
       "1                14113  \n",
       "2                14386  \n",
       "3                16221  \n",
       "4                18375  "
      ]
     },
     "execution_count": 2,
     "metadata": {},
     "output_type": "execute_result"
    }
   ],
   "source": [
    "df = pd.read_csv('ConstructionTimeSeriesDataV2.csv')\n",
    "df.head()"
   ]
  },
  {
   "cell_type": "markdown",
   "metadata": {},
   "source": [
    "# Create function to Convert Month-Year Column \n",
    "\n",
    "... and a dictionary to help"
   ]
  },
  {
   "cell_type": "code",
   "execution_count": 3,
   "metadata": {},
   "outputs": [],
   "source": [
    "date_data = {'Jan' : ('01', '31'), 'Feb' : ('02', '28'), 'Mar' : ('03', '31'), 'Apr' : ('04', '30'), 'May' : ('05', '31'), 'Jun' : ('06', '30'), 'Jul' : ('07', '31'), 'Aug' : ('08', '31'), 'Sep' : ('09', '30'), 'Oct' : ('10', '31'), 'Nov' : ('11', '30'), 'Dec' : ('12', '31')}\n",
    "\n",
    "def to_data_range(date_str):\n",
    "    return '20' + date_str[-2:] + '-' + date_data[date_str[:3]][0] + '-' + date_data[date_str[:3]][0]"
   ]
  },
  {
   "cell_type": "markdown",
   "metadata": {},
   "source": [
    "# Create a New Column with Proper (string) Date Fromat"
   ]
  },
  {
   "cell_type": "code",
   "execution_count": 4,
   "metadata": {},
   "outputs": [],
   "source": [
    "df['Date'] = df['Month-Year'].apply(to_data_range)"
   ]
  },
  {
   "cell_type": "markdown",
   "metadata": {},
   "source": [
    "# Set Index to a Date Range\n",
    "\n",
    "... and check to make sure DataFrame index is DatetimeIndex"
   ]
  },
  {
   "cell_type": "code",
   "execution_count": 5,
   "metadata": {},
   "outputs": [],
   "source": [
    "df.index = pd.date_range(start=df['Date'].iloc[0], periods = df['Date'].shape[0], freq='M')"
   ]
  },
  {
   "cell_type": "code",
   "execution_count": 6,
   "metadata": {},
   "outputs": [
    {
     "data": {
      "text/html": [
       "<div>\n",
       "<style scoped>\n",
       "    .dataframe tbody tr th:only-of-type {\n",
       "        vertical-align: middle;\n",
       "    }\n",
       "\n",
       "    .dataframe tbody tr th {\n",
       "        vertical-align: top;\n",
       "    }\n",
       "\n",
       "    .dataframe thead th {\n",
       "        text-align: right;\n",
       "    }\n",
       "</style>\n",
       "<table border=\"1\" class=\"dataframe\">\n",
       "  <thead>\n",
       "    <tr style=\"text-align: right;\">\n",
       "      <th></th>\n",
       "      <th>Month</th>\n",
       "      <th>Month-Year</th>\n",
       "      <th>Total Construction</th>\n",
       "      <th>Private Construction</th>\n",
       "      <th>Public Construction</th>\n",
       "      <th>Date</th>\n",
       "    </tr>\n",
       "  </thead>\n",
       "  <tbody>\n",
       "    <tr>\n",
       "      <th>2002-01-31</th>\n",
       "      <td>1</td>\n",
       "      <td>Jan-02</td>\n",
       "      <td>59516</td>\n",
       "      <td>45273</td>\n",
       "      <td>14243</td>\n",
       "      <td>2002-01-01</td>\n",
       "    </tr>\n",
       "    <tr>\n",
       "      <th>2002-02-28</th>\n",
       "      <td>2</td>\n",
       "      <td>Feb-02</td>\n",
       "      <td>58588</td>\n",
       "      <td>44475</td>\n",
       "      <td>14113</td>\n",
       "      <td>2002-02-02</td>\n",
       "    </tr>\n",
       "    <tr>\n",
       "      <th>2002-03-31</th>\n",
       "      <td>3</td>\n",
       "      <td>Mar-02</td>\n",
       "      <td>63782</td>\n",
       "      <td>49396</td>\n",
       "      <td>14386</td>\n",
       "      <td>2002-03-03</td>\n",
       "    </tr>\n",
       "    <tr>\n",
       "      <th>2002-04-30</th>\n",
       "      <td>4</td>\n",
       "      <td>Apr-02</td>\n",
       "      <td>69504</td>\n",
       "      <td>53283</td>\n",
       "      <td>16221</td>\n",
       "      <td>2002-04-04</td>\n",
       "    </tr>\n",
       "    <tr>\n",
       "      <th>2002-05-31</th>\n",
       "      <td>5</td>\n",
       "      <td>May-02</td>\n",
       "      <td>73384</td>\n",
       "      <td>55009</td>\n",
       "      <td>18375</td>\n",
       "      <td>2002-05-05</td>\n",
       "    </tr>\n",
       "  </tbody>\n",
       "</table>\n",
       "</div>"
      ],
      "text/plain": [
       "            Month Month-Year  Total Construction  Private Construction  \\\n",
       "2002-01-31      1     Jan-02               59516                 45273   \n",
       "2002-02-28      2     Feb-02               58588                 44475   \n",
       "2002-03-31      3     Mar-02               63782                 49396   \n",
       "2002-04-30      4     Apr-02               69504                 53283   \n",
       "2002-05-31      5     May-02               73384                 55009   \n",
       "\n",
       "            Public Construction        Date  \n",
       "2002-01-31                14243  2002-01-01  \n",
       "2002-02-28                14113  2002-02-02  \n",
       "2002-03-31                14386  2002-03-03  \n",
       "2002-04-30                16221  2002-04-04  \n",
       "2002-05-31                18375  2002-05-05  "
      ]
     },
     "execution_count": 6,
     "metadata": {},
     "output_type": "execute_result"
    }
   ],
   "source": [
    "df.head()"
   ]
  },
  {
   "cell_type": "code",
   "execution_count": 7,
   "metadata": {},
   "outputs": [
    {
     "data": {
      "text/plain": [
       "pandas.core.indexes.datetimes.DatetimeIndex"
      ]
     },
     "execution_count": 7,
     "metadata": {},
     "output_type": "execute_result"
    }
   ],
   "source": [
    "type(df.index)"
   ]
  },
  {
   "cell_type": "code",
   "execution_count": null,
   "metadata": {},
   "outputs": [],
   "source": []
  }
 ],
 "metadata": {
  "kernelspec": {
   "display_name": "Python 3",
   "language": "python",
   "name": "python3"
  },
  "language_info": {
   "codemirror_mode": {
    "name": "ipython",
    "version": 3
   },
   "file_extension": ".py",
   "mimetype": "text/x-python",
   "name": "python",
   "nbconvert_exporter": "python",
   "pygments_lexer": "ipython3",
   "version": "3.8.5"
  }
 },
 "nbformat": 4,
 "nbformat_minor": 4
}
